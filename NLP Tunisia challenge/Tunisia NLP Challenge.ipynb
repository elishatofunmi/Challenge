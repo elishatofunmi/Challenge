{
 "cells": [
  {
   "cell_type": "code",
   "execution_count": 1,
   "metadata": {},
   "outputs": [],
   "source": [
    "import pickle\n",
    "train_corpus = pickle.load( open(\"train.pkl\", \"rb\" ) )\n",
    "test_corpus = pickle.load(open('test.pkl', 'rb'))"
   ]
  },
  {
   "cell_type": "markdown",
   "metadata": {},
   "source": [
    "https://zindi.africa/competitions/ai-hack-tunisia-3-nlp-challenge/data"
   ]
  },
  {
   "cell_type": "code",
   "execution_count": 15,
   "metadata": {},
   "outputs": [
    {
     "data": {
      "text/html": [
       "<div>\n",
       "<style scoped>\n",
       "    .dataframe tbody tr th:only-of-type {\n",
       "        vertical-align: middle;\n",
       "    }\n",
       "\n",
       "    .dataframe tbody tr th {\n",
       "        vertical-align: top;\n",
       "    }\n",
       "\n",
       "    .dataframe thead th {\n",
       "        text-align: right;\n",
       "    }\n",
       "</style>\n",
       "<table border=\"1\" class=\"dataframe\">\n",
       "  <thead>\n",
       "    <tr style=\"text-align: right;\">\n",
       "      <th></th>\n",
       "      <th>Id</th>\n",
       "      <th>c</th>\n",
       "      <th>r</th>\n",
       "      <th>y</th>\n",
       "    </tr>\n",
       "  </thead>\n",
       "  <tbody>\n",
       "    <tr>\n",
       "      <td>0</td>\n",
       "      <td>0</td>\n",
       "      <td>_t_ comment faire pour choisir bonne musique ...</td>\n",
       "      <td>merci</td>\n",
       "      <td>1</td>\n",
       "    </tr>\n",
       "    <tr>\n",
       "      <td>1</td>\n",
       "      <td>1</td>\n",
       "      <td>_t_ comment faire pour choisir bonne musique ...</td>\n",
       "      <td>لباس العربي</td>\n",
       "      <td>0</td>\n",
       "    </tr>\n",
       "    <tr>\n",
       "      <td>2</td>\n",
       "      <td>2</td>\n",
       "      <td>_t_ comment faire pour choisir bonne musique ...</td>\n",
       "      <td>mkber 9albk</td>\n",
       "      <td>0</td>\n",
       "    </tr>\n",
       "    <tr>\n",
       "      <td>3</td>\n",
       "      <td>3</td>\n",
       "      <td>_t_ comment faire pour choisir bonne musique ...</td>\n",
       "      <td>thats kayle taswira mouneka ommha check sword...</td>\n",
       "      <td>0</td>\n",
       "    </tr>\n",
       "    <tr>\n",
       "      <td>4</td>\n",
       "      <td>4</td>\n",
       "      <td>_t_ comment faire pour choisir bonne musique ...</td>\n",
       "      <td>صحيح تتعداش أبداا dinar</td>\n",
       "      <td>0</td>\n",
       "    </tr>\n",
       "  </tbody>\n",
       "</table>\n",
       "</div>"
      ],
      "text/plain": [
       "   Id                                                  c  \\\n",
       "0   0   _t_ comment faire pour choisir bonne musique ...   \n",
       "1   1   _t_ comment faire pour choisir bonne musique ...   \n",
       "2   2   _t_ comment faire pour choisir bonne musique ...   \n",
       "3   3   _t_ comment faire pour choisir bonne musique ...   \n",
       "4   4   _t_ comment faire pour choisir bonne musique ...   \n",
       "\n",
       "                                                   r  y  \n",
       "0                                              merci  1  \n",
       "1                                       لباس العربي   0  \n",
       "2                                       mkber 9albk   0  \n",
       "3   thats kayle taswira mouneka ommha check sword...  0  \n",
       "4                            صحيح تتعداش أبداا dinar  0  "
      ]
     },
     "execution_count": 15,
     "metadata": {},
     "output_type": "execute_result"
    }
   ],
   "source": [
    "train_corpus.head()"
   ]
  },
  {
   "cell_type": "code",
   "execution_count": 16,
   "metadata": {},
   "outputs": [
    {
     "data": {
      "text/html": [
       "<div>\n",
       "<style scoped>\n",
       "    .dataframe tbody tr th:only-of-type {\n",
       "        vertical-align: middle;\n",
       "    }\n",
       "\n",
       "    .dataframe tbody tr th {\n",
       "        vertical-align: top;\n",
       "    }\n",
       "\n",
       "    .dataframe thead th {\n",
       "        text-align: right;\n",
       "    }\n",
       "</style>\n",
       "<table border=\"1\" class=\"dataframe\">\n",
       "  <thead>\n",
       "    <tr style=\"text-align: right;\">\n",
       "      <th></th>\n",
       "      <th>Id</th>\n",
       "      <th>c</th>\n",
       "      <th>r</th>\n",
       "    </tr>\n",
       "  </thead>\n",
       "  <tbody>\n",
       "    <tr>\n",
       "      <td>0</td>\n",
       "      <td>0</td>\n",
       "      <td>_t_ Yrem _t_  _t_ lords نسيطرو عليهم الغروبات...</td>\n",
       "      <td>Răchëd MhāmDī</td>\n",
       "    </tr>\n",
       "    <tr>\n",
       "      <td>1</td>\n",
       "      <td>1</td>\n",
       "      <td>_t_ Yrem _t_  _t_ lords نسيطرو عليهم الغروبات...</td>\n",
       "      <td>انا.منحبش.مسي.انحب.رونالدو</td>\n",
       "    </tr>\n",
       "    <tr>\n",
       "      <td>2</td>\n",
       "      <td>2</td>\n",
       "      <td>_t_ Yrem _t_  _t_ lords نسيطرو عليهم الغروبات...</td>\n",
       "      <td>الmarketing like</td>\n",
       "    </tr>\n",
       "    <tr>\n",
       "      <td>3</td>\n",
       "      <td>3</td>\n",
       "      <td>_t_ Yrem _t_  _t_ lords نسيطرو عليهم الغروبات...</td>\n",
       "      <td>اخيب حاجة عملتها حياتي شريت اوريدو</td>\n",
       "    </tr>\n",
       "    <tr>\n",
       "      <td>4</td>\n",
       "      <td>4</td>\n",
       "      <td>_t_ Yrem _t_  _t_ lords نسيطرو عليهم الغروبات...</td>\n",
       "      <td>troudouha moch</td>\n",
       "    </tr>\n",
       "  </tbody>\n",
       "</table>\n",
       "</div>"
      ],
      "text/plain": [
       "   Id                                                  c  \\\n",
       "0   0   _t_ Yrem _t_  _t_ lords نسيطرو عليهم الغروبات...   \n",
       "1   1   _t_ Yrem _t_  _t_ lords نسيطرو عليهم الغروبات...   \n",
       "2   2   _t_ Yrem _t_  _t_ lords نسيطرو عليهم الغروبات...   \n",
       "3   3   _t_ Yrem _t_  _t_ lords نسيطرو عليهم الغروبات...   \n",
       "4   4   _t_ Yrem _t_  _t_ lords نسيطرو عليهم الغروبات...   \n",
       "\n",
       "                                     r  \n",
       "0                        Răchëd MhāmDī  \n",
       "1           انا.منحبش.مسي.انحب.رونالدو  \n",
       "2                    الmarketing like   \n",
       "3   اخيب حاجة عملتها حياتي شريت اوريدو  \n",
       "4                      troudouha moch   "
      ]
     },
     "execution_count": 16,
     "metadata": {},
     "output_type": "execute_result"
    }
   ],
   "source": [
    "test_corpus.head()"
   ]
  },
  {
   "cell_type": "code",
   "execution_count": 5,
   "metadata": {},
   "outputs": [
    {
     "data": {
      "text/plain": [
       "['SampleSubmission.csv',\n",
       " 'train.pkl',\n",
       " '.ipynb_checkpoints',\n",
       " 'Tunisia NLP Challenge.ipynb',\n",
       " 'test.pkl']"
      ]
     },
     "execution_count": 5,
     "metadata": {},
     "output_type": "execute_result"
    }
   ],
   "source": [
    "import os\n",
    "os.listdir()"
   ]
  },
  {
   "cell_type": "code",
   "execution_count": 9,
   "metadata": {},
   "outputs": [],
   "source": [
    "import pandas as pd\n",
    "import numpy as np\n",
    "import keras\n",
    "import tensorflow as tf\n",
    "import torch\n",
    "from fastai import *\n",
    "submission = pd.read_csv('SampleSubmission.csv')"
   ]
  },
  {
   "cell_type": "code",
   "execution_count": 10,
   "metadata": {},
   "outputs": [
    {
     "data": {
      "text/html": [
       "<div>\n",
       "<style scoped>\n",
       "    .dataframe tbody tr th:only-of-type {\n",
       "        vertical-align: middle;\n",
       "    }\n",
       "\n",
       "    .dataframe tbody tr th {\n",
       "        vertical-align: top;\n",
       "    }\n",
       "\n",
       "    .dataframe thead th {\n",
       "        text-align: right;\n",
       "    }\n",
       "</style>\n",
       "<table border=\"1\" class=\"dataframe\">\n",
       "  <thead>\n",
       "    <tr style=\"text-align: right;\">\n",
       "      <th></th>\n",
       "      <th>Id</th>\n",
       "      <th>y</th>\n",
       "    </tr>\n",
       "  </thead>\n",
       "  <tbody>\n",
       "    <tr>\n",
       "      <td>0</td>\n",
       "      <td>0</td>\n",
       "      <td>0.0</td>\n",
       "    </tr>\n",
       "    <tr>\n",
       "      <td>1</td>\n",
       "      <td>1</td>\n",
       "      <td>1.0</td>\n",
       "    </tr>\n",
       "    <tr>\n",
       "      <td>2</td>\n",
       "      <td>2</td>\n",
       "      <td>0.0</td>\n",
       "    </tr>\n",
       "    <tr>\n",
       "      <td>3</td>\n",
       "      <td>3</td>\n",
       "      <td>0.0</td>\n",
       "    </tr>\n",
       "    <tr>\n",
       "      <td>4</td>\n",
       "      <td>4</td>\n",
       "      <td>0.0</td>\n",
       "    </tr>\n",
       "  </tbody>\n",
       "</table>\n",
       "</div>"
      ],
      "text/plain": [
       "   Id    y\n",
       "0   0  0.0\n",
       "1   1  1.0\n",
       "2   2  0.0\n",
       "3   3  0.0\n",
       "4   4  0.0"
      ]
     },
     "execution_count": 10,
     "metadata": {},
     "output_type": "execute_result"
    }
   ],
   "source": [
    "submission.head()"
   ]
  },
  {
   "cell_type": "code",
   "execution_count": 12,
   "metadata": {},
   "outputs": [
    {
     "data": {
      "text/plain": [
       "' _t_ comment faire pour choisir bonne musique pour samma3ni _t_ Bonsoir Rimo simple consultez catalogue toutes tonalités Samma3ni lien suivant: https://samma3ni.ooredoo.tn/oortn/front/# /web/home votre service Lotfi Community Manager _t_ Merci peux donner musique numero _t_ vous cherchez titre bien déterminé Lotfi Community Manager _t_ connais jara _t_ Vous pouvez faire recherche avec titre composant *150*4#. Lotfi Community Manager _t_ Vous dites suspendu solde _t_ Dans vous devez recharger votre compte pour vous piussez acheter tonalité. votre service Lotfi Community Manager'"
      ]
     },
     "execution_count": 12,
     "metadata": {},
     "output_type": "execute_result"
    }
   ],
   "source": [
    "train_corpus['c'][4]"
   ]
  },
  {
   "cell_type": "code",
   "execution_count": 13,
   "metadata": {},
   "outputs": [
    {
     "data": {
      "text/plain": [
       "' صحيح تتعداش أبداا dinar'"
      ]
     },
     "execution_count": 13,
     "metadata": {},
     "output_type": "execute_result"
    }
   ],
   "source": [
    "train_corpus['r'][4]"
   ]
  },
  {
   "cell_type": "code",
   "execution_count": 14,
   "metadata": {},
   "outputs": [
    {
     "data": {
      "text/plain": [
       "0"
      ]
     },
     "execution_count": 14,
     "metadata": {},
     "output_type": "execute_result"
    }
   ],
   "source": [
    "train_corpus['y'][4]"
   ]
  },
  {
   "cell_type": "code",
   "execution_count": 17,
   "metadata": {},
   "outputs": [
    {
     "name": "stdout",
     "output_type": "stream",
     "text": [
      " _t_ comment faire pour choisir bonne musique pour samma3ni _t_ Bonsoir Rimo simple consultez catalogue toutes tonalités Samma3ni lien suivant: https://samma3ni.ooredoo.tn/oortn/front/# /web/home votre service Lotfi Community Manager _t_ Merci peux donner musique numero _t_ vous cherchez titre bien déterminé Lotfi Community Manager _t_ connais jara _t_ Vous pouvez faire recherche avec titre composant *150*4#. Lotfi Community Manager _t_ Vous dites suspendu solde _t_ Dans vous devez recharger votre compte pour vous piussez acheter tonalité. votre service Lotfi Community Manager\n",
      "\n",
      "\n",
      " مرحبا الرجاء مدنا برقم هاتفك رسالة لصفحة للتثبت إجابتك دقة. شكرا Saber Team Ooredoo Assistance \n",
      "\n",
      "\n",
      "0\n"
     ]
    }
   ],
   "source": [
    "def view(data, index):\n",
    "    print(data['c'][index])\n",
    "    print('')\n",
    "    print('')\n",
    "    print(data['r'][index])\n",
    "    print('')\n",
    "    print('')\n",
    "    print(data['y'][index])\n",
    "    return\n",
    "\n",
    "view(train_corpus, 5)"
   ]
  },
  {
   "cell_type": "code",
   "execution_count": 18,
   "metadata": {},
   "outputs": [
    {
     "name": "stdout",
     "output_type": "stream",
     "text": [
      " _t_ yezi te5ssro barcha wzid esr9o mnha _t_ Bonsoir Houssem Passez votre numéro mobile Messenger ici:http://m.me/ooredootn afin puisse vérifier. Aymen Team Ooredoo Assistance\n",
      "\n",
      "\n",
      " \n",
      "\n",
      "\n",
      "0\n"
     ]
    }
   ],
   "source": [
    "view(train_corpus, 34)"
   ]
  },
  {
   "cell_type": "code",
   "execution_count": 20,
   "metadata": {},
   "outputs": [
    {
     "name": "stdout",
     "output_type": "stream",
     "text": [
      " _t_ Inés Hajri\n",
      "\n",
      "\n",
      "Youssef Grami afra7 biya\n",
      "\n",
      "\n",
      "1\n"
     ]
    }
   ],
   "source": [
    "view(train_corpus, 450)"
   ]
  },
  {
   "cell_type": "code",
   "execution_count": 21,
   "metadata": {},
   "outputs": [
    {
     "name": "stdout",
     "output_type": "stream",
     "text": [
      " _t_  _t_ Ooredoo Tunisie مشكل أحنا ديما موجودين\n",
      "\n",
      "\n",
      " 7adhara mota2a5ira\n",
      "\n",
      "\n",
      "0\n"
     ]
    }
   ],
   "source": [
    "view(train_corpus, 799)"
   ]
  },
  {
   "cell_type": "code",
   "execution_count": null,
   "metadata": {},
   "outputs": [],
   "source": []
  }
 ],
 "metadata": {
  "kernelspec": {
   "display_name": "Python 3",
   "language": "python",
   "name": "python3"
  },
  "language_info": {
   "codemirror_mode": {
    "name": "ipython",
    "version": 3
   },
   "file_extension": ".py",
   "mimetype": "text/x-python",
   "name": "python",
   "nbconvert_exporter": "python",
   "pygments_lexer": "ipython3",
   "version": "3.7.4"
  }
 },
 "nbformat": 4,
 "nbformat_minor": 4
}
